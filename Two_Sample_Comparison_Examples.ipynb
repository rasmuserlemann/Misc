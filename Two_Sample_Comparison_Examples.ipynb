{
  "nbformat": 4,
  "nbformat_minor": 0,
  "metadata": {
    "colab": {
      "provenance": []
    },
    "kernelspec": {
      "name": "python3",
      "display_name": "Python 3"
    },
    "language_info": {
      "name": "python"
    }
  },
  "cells": [
    {
      "cell_type": "code",
      "execution_count": 2,
      "metadata": {
        "id": "cXhy1PURV9mC"
      },
      "outputs": [],
      "source": [
        "import scipy\n",
        "import numpy"
      ]
    },
    {
      "cell_type": "code",
      "source": [
        "#Two samples, sample sizes are 100 for both, both samples from N(0,1)\n",
        "#p-value comes out 0.8\n",
        "n1 = 100\n",
        "n2 = 100\n",
        "mu1 = 0\n",
        "mu2 = 0\n",
        "\n",
        "x = numpy.random.normal(loc=mu1, scale=1.0, size=n1)\n",
        "y = numpy.random.normal(loc=mu2, scale=1.0, size=n2)\n",
        "\n",
        "M = scipy.stats.ttest_ind(x,y)\n",
        "print(M)"
      ],
      "metadata": {
        "colab": {
          "base_uri": "https://localhost:8080/"
        },
        "id": "2UzydxRdWA7c",
        "outputId": "51e0e36a-33b1-4533-d177-750653a35e73"
      },
      "execution_count": null,
      "outputs": [
        {
          "output_type": "stream",
          "name": "stdout",
          "text": [
            "TtestResult(statistic=0.2413336175621342, pvalue=0.8095462945351763, df=198.0)\n"
          ]
        }
      ]
    },
    {
      "cell_type": "code",
      "source": [
        "#Two samples, sample sizes are 100 for both, first sample from N(0,1), other one from N(1,1)\n",
        "#p-value comes out 4.863109711242487e-13\n",
        "n1 = 100\n",
        "n2 = 100\n",
        "mu1 = 0\n",
        "mu2 = 1\n",
        "\n",
        "x = numpy.random.normal(loc=mu1, scale=1.0, size=n1)\n",
        "y = numpy.random.normal(loc=mu2, scale=1.0, size=n2)\n",
        "\n",
        "M = scipy.stats.ttest_ind(x,y)\n",
        "print(M)"
      ],
      "metadata": {
        "colab": {
          "base_uri": "https://localhost:8080/"
        },
        "id": "Nhxvo2KJWv2H",
        "outputId": "5f309e28-bc6a-4bbf-af84-5604e231d5b6"
      },
      "execution_count": null,
      "outputs": [
        {
          "output_type": "stream",
          "name": "stdout",
          "text": [
            "TtestResult(statistic=-7.744246249546993, pvalue=4.863109711242487e-13, df=198.0)\n"
          ]
        }
      ]
    },
    {
      "cell_type": "code",
      "source": [
        "#Two samples, first sample size 2, the other one 20, both samples from N(0,1)\n",
        "#p-value comes out 0.01\n",
        "n1 = 2\n",
        "n2 = 20\n",
        "mu1 = 0\n",
        "mu2 = 0\n",
        "\n",
        "x = numpy.random.normal(loc=mu1, scale=1.0, size=n1)\n",
        "y = numpy.random.normal(loc=mu2, scale=1.0, size=n2)\n",
        "\n",
        "M = scipy.stats.ttest_ind(x,y)\n",
        "print(M)"
      ],
      "metadata": {
        "colab": {
          "base_uri": "https://localhost:8080/"
        },
        "id": "s26rUGfUXD-9",
        "outputId": "95aef15a-7525-425f-dc3c-b4dc3a23e448"
      },
      "execution_count": 49,
      "outputs": [
        {
          "output_type": "stream",
          "name": "stdout",
          "text": [
            "TtestResult(statistic=2.6784983289940523, pvalue=0.0144409491188797, df=20.0)\n"
          ]
        }
      ]
    },
    {
      "cell_type": "code",
      "source": [
        "#Two samples, sample sizes are 100 for both, first sample from N(0,1), the other one from N(0,5)\n",
        "#t-test p-value comes out 0.48 but two sample cramer von mises test p-value comes out as 1.8317622062502537e-06\n",
        "n1 = 100\n",
        "n2 = 100\n",
        "mu1 = 0\n",
        "mu2 = 0\n",
        "std1 = 1\n",
        "std2 = 5\n",
        "\n",
        "x = numpy.random.normal(loc=mu1, scale=std1, size=n1)\n",
        "y = numpy.random.normal(loc=mu2, scale=std2, size=n2)\n",
        "\n",
        "M1 = scipy.stats.ttest_ind(x,y)\n",
        "M2 = scipy.stats.cramervonmises_2samp(x, y)\n",
        "print(M1)\n",
        "print(M2)"
      ],
      "metadata": {
        "colab": {
          "base_uri": "https://localhost:8080/"
        },
        "id": "xU4_a79TWlxw",
        "outputId": "4218c5c6-5fc2-4e76-f306-cbe12d52ffc8"
      },
      "execution_count": 5,
      "outputs": [
        {
          "output_type": "stream",
          "name": "stdout",
          "text": [
            "TtestResult(statistic=0.700997460979885, pvalue=0.4841276032206101, df=198.0)\n",
            "CramerVonMisesResult(statistic=2.3721999999999994, pvalue=1.8317622062502537e-06)\n"
          ]
        }
      ]
    }
  ]
}
